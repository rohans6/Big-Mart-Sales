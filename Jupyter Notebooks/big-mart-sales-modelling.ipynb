{
 "cells": [
  {
   "cell_type": "code",
   "execution_count": 12,
   "metadata": {
    "_cell_guid": "b1076dfc-b9ad-4769-8c92-a6c4dae69d19",
    "_uuid": "8f2839f25d086af736a60e9eeb907d3b93b6e0e5",
    "execution": {
     "iopub.execute_input": "2021-09-04T09:15:12.732313Z",
     "iopub.status.busy": "2021-09-04T09:15:12.731952Z",
     "iopub.status.idle": "2021-09-04T09:15:12.739969Z",
     "shell.execute_reply": "2021-09-04T09:15:12.739185Z",
     "shell.execute_reply.started": "2021-09-04T09:15:12.732282Z"
    }
   },
   "outputs": [],
   "source": [
    "import numpy as np\n",
    "import pandas as pd \n",
    "import warnings\n",
    "warnings.filterwarnings('ignore')\n",
    "from sklearn.preprocessing import RobustScaler\n",
    "from sklearn.model_selection import train_test_split\n",
    "from sklearn.metrics import mean_absolute_error,mean_squared_error,r2_score\n",
    "from xgboost import XGBRegressor\n",
    "from sklearn.linear_model import LinearRegression,Lasso,Ridge,ElasticNet\n",
    "from sklearn.pipeline import Pipeline\n",
    "from sklearn.ensemble import RandomForestRegressor,GradientBoostingRegressor,ExtraTreesRegressor\n",
    "from sklearn.tree import DecisionTreeRegressor\n",
    "from sklearn.svm import SVR\n",
    "import tensorflow as tf\n",
    "from sklearn.compose import ColumnTransformer\n",
    "from sklearn.preprocessing import OneHotEncoder,PowerTransformer,LabelEncoder\n",
    "from sklearn.model_selection import KFold\n",
    "from lightgbm import LGBMRegressor\n",
    "from scipy.stats import mode\n",
    "from sklearn.model_selection import GridSearchCV,cross_val_score\n",
    "import tensorflow as tf\n",
    "from category_encoders import TargetEncoder"
   ]
  },
  {
   "cell_type": "code",
   "execution_count": 31,
   "metadata": {
    "execution": {
     "iopub.execute_input": "2021-09-04T09:18:54.333592Z",
     "iopub.status.busy": "2021-09-04T09:18:54.333119Z",
     "iopub.status.idle": "2021-09-04T09:18:54.392697Z",
     "shell.execute_reply": "2021-09-04T09:18:54.391698Z",
     "shell.execute_reply.started": "2021-09-04T09:18:54.333545Z"
    }
   },
   "outputs": [],
   "source": [
    "train=pd.read_csv(\"../input/bigmart-sales-data/Train.csv\")\n",
    "test=pd.read_csv(\"../input/bigmart-sales-data/Test.csv\")\n",
    "train['file']='train'\n",
    "test['file']='test'\n",
    "all_data=pd.concat([train,test],ignore_index=True)"
   ]
  },
  {
   "cell_type": "markdown",
   "metadata": {},
   "source": [
    "# Missing Value Imputation"
   ]
  },
  {
   "cell_type": "code",
   "execution_count": 32,
   "metadata": {
    "execution": {
     "iopub.execute_input": "2021-09-04T09:19:01.949909Z",
     "iopub.status.busy": "2021-09-04T09:19:01.949519Z",
     "iopub.status.idle": "2021-09-04T09:19:03.027944Z",
     "shell.execute_reply": "2021-09-04T09:19:03.026816Z",
     "shell.execute_reply.started": "2021-09-04T09:19:01.949880Z"
    }
   },
   "outputs": [],
   "source": [
    "item_avg_weight=all_data.pivot_table(values=\"Item_Weight\",index=\"Item_Identifier\")\n",
    "all_data.loc[all_data['Item_Weight'].isnull(),\"Item_Weight\"]=all_data.loc[all_data['Item_Weight'].isnull(),\"Item_Identifier\"].apply(lambda x: item_avg_weight.loc[item_avg_weight.index==x,\"Item_Weight\"][0])"
   ]
  },
  {
   "cell_type": "code",
   "execution_count": 33,
   "metadata": {
    "execution": {
     "iopub.execute_input": "2021-09-04T09:19:03.189024Z",
     "iopub.status.busy": "2021-09-04T09:19:03.188682Z",
     "iopub.status.idle": "2021-09-04T09:19:03.904590Z",
     "shell.execute_reply": "2021-09-04T09:19:03.903653Z",
     "shell.execute_reply.started": "2021-09-04T09:19:03.188997Z"
    }
   },
   "outputs": [],
   "source": [
    "a=all_data.pivot_table(values=\"Outlet_Size\",index= 'Outlet_Type',aggfunc=lambda x: mode(x).mode[0] )\n",
    "all_data.loc[all_data['Outlet_Size'].isnull(),\"Outlet_Size\"]=all_data.loc[all_data['Outlet_Size'].isnull(),\"Outlet_Type\"].apply(lambda x: a.loc[a.index==x,\"Outlet_Size\"][0])"
   ]
  },
  {
   "cell_type": "code",
   "execution_count": 34,
   "metadata": {
    "execution": {
     "iopub.execute_input": "2021-09-04T09:19:04.044831Z",
     "iopub.status.busy": "2021-09-04T09:19:04.044440Z",
     "iopub.status.idle": "2021-09-04T09:19:04.447406Z",
     "shell.execute_reply": "2021-09-04T09:19:04.446413Z",
     "shell.execute_reply.started": "2021-09-04T09:19:04.044800Z"
    }
   },
   "outputs": [],
   "source": [
    "item_avg_visibility=all_data.pivot_table(values=\"Item_Visibility\",index=\"Item_Identifier\")\n",
    "all_data.loc[all_data['Item_Visibility']==0,\"Item_Visibility\"]=all_data.loc[all_data['Item_Visibility']==0,\"Item_Identifier\"].apply(lambda x: item_avg_visibility.loc[item_avg_visibility.index==x,\"Item_Visibility\"][0])"
   ]
  },
  {
   "cell_type": "code",
   "execution_count": 35,
   "metadata": {
    "execution": {
     "iopub.execute_input": "2021-09-04T09:19:04.721495Z",
     "iopub.status.busy": "2021-09-04T09:19:04.721141Z",
     "iopub.status.idle": "2021-09-04T09:19:04.746210Z",
     "shell.execute_reply": "2021-09-04T09:19:04.744622Z",
     "shell.execute_reply.started": "2021-09-04T09:19:04.721466Z"
    }
   },
   "outputs": [
    {
     "data": {
      "text/plain": [
       "Item_Identifier                 0\n",
       "Item_Weight                     0\n",
       "Item_Fat_Content                0\n",
       "Item_Visibility                 0\n",
       "Item_Type                       0\n",
       "Item_MRP                        0\n",
       "Outlet_Identifier               0\n",
       "Outlet_Establishment_Year       0\n",
       "Outlet_Size                     0\n",
       "Outlet_Location_Type            0\n",
       "Outlet_Type                     0\n",
       "Item_Outlet_Sales            5681\n",
       "file                            0\n",
       "dtype: int64"
      ]
     },
     "execution_count": 35,
     "metadata": {},
     "output_type": "execute_result"
    }
   ],
   "source": [
    "all_data.isnull().sum()"
   ]
  },
  {
   "cell_type": "code",
   "execution_count": 36,
   "metadata": {
    "execution": {
     "iopub.execute_input": "2021-09-04T09:19:08.771882Z",
     "iopub.status.busy": "2021-09-04T09:19:08.771508Z",
     "iopub.status.idle": "2021-09-04T09:19:08.781779Z",
     "shell.execute_reply": "2021-09-04T09:19:08.780721Z",
     "shell.execute_reply.started": "2021-09-04T09:19:08.771853Z"
    }
   },
   "outputs": [],
   "source": [
    "def Feature_Engineering(data):\n",
    "    dataframe=data.copy()\n",
    "    dataframe['New_Item_Type']=dataframe['Item_Identifier'].apply(lambda x: x[:2])\n",
    "    dataframe['New_Item_Type']=dataframe['New_Item_Type'].map({\"FD\":\"Food\",\"NC\":\"Non Consumable\",\"DR\":\"Drinks\"})\n",
    "    dataframe['Years_Established']=2021-dataframe['Outlet_Establishment_Year']\n",
    "    dataframe.loc[dataframe['New_Item_Type']==\"Non Consumable\",\"Item_Fat_Content\"]=\"Non-Edible\"\n",
    "    return dataframe\n",
    "def make_submission(predictions):\n",
    "    df=pd.read_csv(\"../input/bigmart-sales-data/Test.csv\")\n",
    "    df['Item_Outlet_Sales']=predictions\n",
    "    df[['Item_Identifier',\"Outlet_Identifier\",\"Item_Outlet_Sales\"]].to_csv(\"submission.csv\",index=False)\n",
    "def cross_validate(model,X,y):\n",
    "    scores=cross_val_score(model,X,y,scoring='neg_mean_squared_error')\n",
    "    print(np.sqrt(np.mean(scores)))\n",
    "def gridsearch(model,param_grid,X,y):\n",
    "    grid=GridSearchCV(model,param_grid,scoring='neg_mean_squared_error')\n",
    "    grid.fit(X,y)\n",
    "    print(np.sqrt(-grid.best_score_))\n",
    "    print(grid.best_params_)\n",
    "    "
   ]
  },
  {
   "cell_type": "code",
   "execution_count": 37,
   "metadata": {
    "execution": {
     "iopub.execute_input": "2021-09-04T09:19:09.505429Z",
     "iopub.status.busy": "2021-09-04T09:19:09.505036Z",
     "iopub.status.idle": "2021-09-04T09:19:09.536370Z",
     "shell.execute_reply": "2021-09-04T09:19:09.535406Z",
     "shell.execute_reply.started": "2021-09-04T09:19:09.505398Z"
    }
   },
   "outputs": [],
   "source": [
    "train=all_data[all_data['file']=='train']\n",
    "test=all_data[all_data['file']=='test']\n",
    "train=Feature_Engineering(train)\n",
    "test=Feature_Engineering(test)"
   ]
  },
  {
   "cell_type": "code",
   "execution_count": 38,
   "metadata": {
    "execution": {
     "iopub.execute_input": "2021-09-04T09:19:17.805494Z",
     "iopub.status.busy": "2021-09-04T09:19:17.805094Z",
     "iopub.status.idle": "2021-09-04T09:19:17.816847Z",
     "shell.execute_reply": "2021-09-04T09:19:17.815862Z",
     "shell.execute_reply.started": "2021-09-04T09:19:17.805462Z"
    }
   },
   "outputs": [],
   "source": [
    "y=train['Item_Outlet_Sales'].copy()\n",
    "train.drop(['Item_Outlet_Sales','file'],axis=1,inplace=True)\n",
    "test.drop(['Item_Outlet_Sales','file'],axis=1,inplace=True)"
   ]
  },
  {
   "cell_type": "code",
   "execution_count": 39,
   "metadata": {
    "execution": {
     "iopub.execute_input": "2021-09-04T09:19:23.576984Z",
     "iopub.status.busy": "2021-09-04T09:19:23.576602Z",
     "iopub.status.idle": "2021-09-04T09:19:23.584764Z",
     "shell.execute_reply": "2021-09-04T09:19:23.583812Z",
     "shell.execute_reply.started": "2021-09-04T09:19:23.576952Z"
    }
   },
   "outputs": [],
   "source": [
    "num_cols=[col for col in train.columns if train[col].dtype!=object]\n",
    "cat_cols=[col for col in train.columns if train[col].dtype==object]\n",
    "preprocessing_pipeline=ColumnTransformer([(\"Numerical\",RobustScaler(),num_cols),(\"Categorical\",OneHotEncoder(handle_unknown=\"ignore\"),cat_cols)])"
   ]
  },
  {
   "cell_type": "code",
   "execution_count": 40,
   "metadata": {
    "execution": {
     "iopub.execute_input": "2021-09-04T09:19:24.591076Z",
     "iopub.status.busy": "2021-09-04T09:19:24.590688Z",
     "iopub.status.idle": "2021-09-04T09:19:24.646332Z",
     "shell.execute_reply": "2021-09-04T09:19:24.645501Z",
     "shell.execute_reply.started": "2021-09-04T09:19:24.591041Z"
    }
   },
   "outputs": [],
   "source": [
    "X=preprocessing_pipeline.fit_transform(train)"
   ]
  },
  {
   "cell_type": "code",
   "execution_count": 41,
   "metadata": {
    "execution": {
     "iopub.execute_input": "2021-09-04T09:19:25.628642Z",
     "iopub.status.busy": "2021-09-04T09:19:25.628259Z",
     "iopub.status.idle": "2021-09-04T09:19:26.338890Z",
     "shell.execute_reply": "2021-09-04T09:19:26.337956Z",
     "shell.execute_reply.started": "2021-09-04T09:19:25.628611Z"
    }
   },
   "outputs": [
    {
     "name": "stdout",
     "output_type": "stream",
     "text": [
      "1078.8290980592599\n",
      "{'num_leaves': 31}\n"
     ]
    }
   ],
   "source": [
    "gridsearch(LGBMRegressor(max_depth=3,n_estimators=50,learning_rate=0.1,subsample=0.8,min_child_samples=60),{\"num_leaves\":[31,10,50]},X,y)"
   ]
  },
  {
   "cell_type": "code",
   "execution_count": 42,
   "metadata": {
    "execution": {
     "iopub.execute_input": "2021-09-04T09:19:31.957127Z",
     "iopub.status.busy": "2021-09-04T09:19:31.956525Z",
     "iopub.status.idle": "2021-09-04T09:19:47.875260Z",
     "shell.execute_reply": "2021-09-04T09:19:47.874134Z",
     "shell.execute_reply.started": "2021-09-04T09:19:31.957078Z"
    }
   },
   "outputs": [
    {
     "name": "stdout",
     "output_type": "stream",
     "text": [
      "1084.5919929741622\n",
      "{'max_features': 'auto'}\n"
     ]
    }
   ],
   "source": [
    "gridsearch(RandomForestRegressor(max_depth=5,n_estimators=80),{\"max_features\":[\"auto\", \"sqrt\", \"log2\"]},X,y)"
   ]
  },
  {
   "cell_type": "code",
   "execution_count": 44,
   "metadata": {
    "execution": {
     "iopub.execute_input": "2021-09-04T09:20:54.156684Z",
     "iopub.status.busy": "2021-09-04T09:20:54.156061Z",
     "iopub.status.idle": "2021-09-04T09:20:54.909419Z",
     "shell.execute_reply": "2021-09-04T09:20:54.908367Z",
     "shell.execute_reply.started": "2021-09-04T09:20:54.156634Z"
    }
   },
   "outputs": [
    {
     "name": "stdout",
     "output_type": "stream",
     "text": [
      "1079.0815840228224\n",
      "0.6001039351576026\n"
     ]
    }
   ],
   "source": [
    "lgm_predictions=np.zeros((len(test),1))\n",
    "lgm_val_predictions=np.zeros((len(train),1))\n",
    "kfold=KFold(n_splits=5,shuffle=True,random_state=42)\n",
    "for train_index,val_index in kfold.split(train,y):\n",
    "    train_data=preprocessing_pipeline.fit_transform(train.loc[train_index])\n",
    "    val_data=preprocessing_pipeline.transform(train.loc[val_index])\n",
    "    test_data=preprocessing_pipeline.transform(test)\n",
    "    y_train=y[train_index]\n",
    "    lgm=LGBMRegressor(max_depth=3,n_estimators=50,learning_rate=0.1,subsample=0.8\n",
    "                          )\n",
    "    lgm.fit(train_data,y_train)\n",
    "    p=lgm.predict(val_data)\n",
    "    lgm_val_predictions[val_index]+=np.reshape(p,(len(p),1))\n",
    "    p=lgm.predict(test_data)\n",
    "    lgm_predictions+=np.reshape(p,(len(p),1))/5\n",
    "print(np.sqrt(mean_squared_error(y,lgm_val_predictions)))\n",
    "print(r2_score(y,lgm_val_predictions))"
   ]
  },
  {
   "cell_type": "code",
   "execution_count": 45,
   "metadata": {
    "execution": {
     "iopub.execute_input": "2021-09-04T09:20:58.705939Z",
     "iopub.status.busy": "2021-09-04T09:20:58.705347Z",
     "iopub.status.idle": "2021-09-04T09:21:10.261482Z",
     "shell.execute_reply": "2021-09-04T09:21:10.260433Z",
     "shell.execute_reply.started": "2021-09-04T09:20:58.705886Z"
    }
   },
   "outputs": [
    {
     "name": "stdout",
     "output_type": "stream",
     "text": [
      "1082.3716118999216\n"
     ]
    }
   ],
   "source": [
    "rf_predictions=np.zeros((len(test),1))\n",
    "rf_val_predictions=np.zeros((len(train),1))\n",
    "kfold=KFold(n_splits=5,shuffle=True,random_state=42)\n",
    "for train_index,val_index in kfold.split(train,y):\n",
    "    train_data=preprocessing_pipeline.fit_transform(train.loc[train_index])\n",
    "    val_data=preprocessing_pipeline.transform(train.loc[val_index])\n",
    "    test_data=preprocessing_pipeline.transform(test)\n",
    "    y_train=y[train_index]\n",
    "    rf=RandomForestRegressor(max_depth=5,n_estimators=80\n",
    "                          )\n",
    "    rf.fit(train_data,y_train)\n",
    "    p=rf.predict(val_data)\n",
    "    rf_val_predictions[val_index]+=np.reshape(p,(len(p),1))\n",
    "    p=rf.predict(test_data)\n",
    "    rf_predictions+=np.reshape(p,(len(p),1))/5\n",
    "print(np.sqrt(mean_squared_error(y,rf_val_predictions)))"
   ]
  },
  {
   "cell_type": "code",
   "execution_count": 46,
   "metadata": {
    "execution": {
     "iopub.execute_input": "2021-09-04T09:21:17.348364Z",
     "iopub.status.busy": "2021-09-04T09:21:17.347807Z",
     "iopub.status.idle": "2021-09-04T09:21:17.391494Z",
     "shell.execute_reply": "2021-09-04T09:21:17.390715Z",
     "shell.execute_reply.started": "2021-09-04T09:21:17.348316Z"
    }
   },
   "outputs": [
    {
     "name": "stdout",
     "output_type": "stream",
     "text": [
      "Best Weight = 0.29000000000000004\n",
      "1078.4008095223408\n"
     ]
    }
   ],
   "source": [
    "weights=np.arange(0.01,1,0.01)\n",
    "all=[]\n",
    "min_error=10000\n",
    "for w in weights:\n",
    "    p=w*rf_val_predictions+(1-w)*lgm_val_predictions\n",
    "    e=np.sqrt(mean_squared_error(y,p))\n",
    "    if e<min_error:\n",
    "        min_error=e\n",
    "        best_weight=w\n",
    "print(\"Best Weight =\",best_weight)\n",
    "print(min_error)\n",
    "    "
   ]
  },
  {
   "cell_type": "code",
   "execution_count": 47,
   "metadata": {
    "execution": {
     "iopub.execute_input": "2021-09-04T09:21:43.404704Z",
     "iopub.status.busy": "2021-09-04T09:21:43.404108Z",
     "iopub.status.idle": "2021-09-04T09:21:43.457891Z",
     "shell.execute_reply": "2021-09-04T09:21:43.456931Z",
     "shell.execute_reply.started": "2021-09-04T09:21:43.404666Z"
    }
   },
   "outputs": [],
   "source": [
    "make_submission(0.29*rf_predictions+0.71*lgm_predictions)"
   ]
  },
  {
   "cell_type": "code",
   "execution_count": null,
   "metadata": {},
   "outputs": [],
   "source": []
  }
 ],
 "metadata": {
  "kernelspec": {
   "display_name": "Python 3",
   "language": "python",
   "name": "python3"
  },
  "language_info": {
   "codemirror_mode": {
    "name": "ipython",
    "version": 3
   },
   "file_extension": ".py",
   "mimetype": "text/x-python",
   "name": "python",
   "nbconvert_exporter": "python",
   "pygments_lexer": "ipython3",
   "version": "3.8.5"
  }
 },
 "nbformat": 4,
 "nbformat_minor": 4
}
